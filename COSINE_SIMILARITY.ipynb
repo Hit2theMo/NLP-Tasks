{
 "cells": [
  {
   "cell_type": "markdown",
   "metadata": {},
   "source": [
    "# COSINE SIMILARITY TASK (28TH FEB)\n",
    "\n",
    "I have chosen 3 paragraphs from a NY times writer- Jamie Lauren Keiles.<br> \n",
    "The links for the three articles are given Below-\n",
    "1. https://www.racked.com/2018/1/17/16897160/lines-waiting-history\n",
    "2. https://www.nytimes.com/2019/04/04/magazine/how-asmr-videos-became-a-sensation-youtube.html\n",
    "3. https://www.theawl.com/2015/04/how-to-optimize-your-flesh-prison/\n"
   ]
  },
  {
   "cell_type": "code",
   "execution_count": 10,
   "metadata": {},
   "outputs": [
    {
     "name": "stdout",
     "output_type": "stream",
     "text": [
      "Article 1: I used to believe that standing in line was a natural arrangement of human bodies, much like geese flying south in a “V.” But queuing is a recent and man-made invention. The first historical description of the line only appeared in 1837, in Thomas Carlyle’s The French Revolution. Describing a postwar scarcity of bread, he wrote: “If we look now at Paris, one thing is too evident: that the Bakers’ shops have got their Queues, or Tails; their long strings of purchasers, arranged in tail, so that the first come be the first served.” According to Carlyle, lining up was a uniquely French eccentricity. How earlier peoples distributed their bread is a fact that I’ve not yet been able to suss out. Before self-serve supermarkets, most stores relied on a deli-counter model. I can only assume that shoppers massed around a vendor, who granted his attention to the squeakiest wheel.\n",
      "\n",
      "Article 2: Intimacy is a human need, but the ways we fulfill it are historically contingent. Of course there are explicit means like friendship and sex, but we also have all kinds of rituals that provide human connection as a second-order perk. When I go to the hair salon, I am there to get my hair cut, but that doesn’t mean that I don’t like the attention. When I listen to a podcast, I enjoy the information, but I can’t deny that I also like the sound of friends inside my house. \n",
      "\n",
      "Article 3: Welcome to the golden age of expressing yourself. Forget everything you’ve ever been taught about assembling your human for public consumption, because where we’re going, we don’t need “investment pieces” or beachy waves. This is 2015, and getting dressed isn’t just about looking good anymore — it’s about communicating an elaborate and complex theory of self grounded in reflexive post-post-structuralist ideals. In the fifties, your grandma wooed your grandpa from across the dancehall with her slender waist and shapely gams. Today, we dress to recruit other genderless entities into our polyamorous sex pentagrams so we can network with them and monetize our personal brands.\n"
     ]
    }
   ],
   "source": [
    "\n",
    "example1=\"\"\"I used to believe that standing in line was a natural arrangement of human bodies, much like geese flying south in a “V.” But queuing is a recent and man-made invention. The first historical description of the line only appeared in 1837, in Thomas Carlyle’s The French Revolution. Describing a postwar scarcity of bread, he wrote: “If we look now at Paris, one thing is too evident: that the Bakers’ shops have got their Queues, or Tails; their long strings of purchasers, arranged in tail, so that the first come be the first served.” According to Carlyle, lining up was a uniquely French eccentricity. How earlier peoples distributed their bread is a fact that I’ve not yet been able to suss out. Before self-serve supermarkets, most stores relied on a deli-counter model. I can only assume that shoppers massed around a vendor, who granted his attention to the squeakiest wheel.\"\"\"\n",
    "example2=\"\"\"Intimacy is a human need, but the ways we fulfill it are historically contingent. Of course there are explicit means like friendship and sex, but we also have all kinds of rituals that provide human connection as a second-order perk. When I go to the hair salon, I am there to get my hair cut, but that doesn’t mean that I don’t like the attention. When I listen to a podcast, I enjoy the information, but I can’t deny that I also like the sound of friends inside my house. \"\"\"\n",
    "example3=\"\"\"Welcome to the golden age of expressing yourself. Forget everything you’ve ever been taught about assembling your human for public consumption, because where we’re going, we don’t need “investment pieces” or beachy waves. This is 2015, and getting dressed isn’t just about looking good anymore — it’s about communicating an elaborate and complex theory of self grounded in reflexive post-post-structuralist ideals. In the fifties, your grandma wooed your grandpa from across the dancehall with her slender waist and shapely gams. Today, we dress to recruit other genderless entities into our polyamorous sex pentagrams so we can network with them and monetize our personal brands.\"\"\"\n",
    "print(\"Article 1:\", example1)\n",
    "print(\"\\nArticle 2:\", example2)\n",
    "print(\"\\nArticle 3:\", example3)"
   ]
  },
  {
   "cell_type": "code",
   "execution_count": 18,
   "metadata": {},
   "outputs": [
    {
     "data": {
      "text/plain": [
       "CountVectorizer(analyzer='word', binary=True, decode_error='strict',\n",
       "        dtype=<class 'numpy.int64'>, encoding='utf-8', input='content',\n",
       "        lowercase=True, max_df=1.0, max_features=None, min_df=1,\n",
       "        ngram_range=(1, 1), preprocessor=None, stop_words=None,\n",
       "        strip_accents=None, token_pattern='(?u)\\\\b\\\\w\\\\w+\\\\b',\n",
       "        tokenizer=None, vocabulary=None)"
      ]
     },
     "execution_count": 18,
     "metadata": {},
     "output_type": "execute_result"
    }
   ],
   "source": [
    "from sklearn.feature_extraction.text import TfidfVectorizer\n",
    "from sklearn.feature_extraction.text import CountVectorizer\n",
    "TFvect = TfidfVectorizer(binary = True)\n",
    "COvect = CountVectorizer(binary = True)\n",
    "corpus = [example3,example2]\n",
    "\n",
    "#Using  Tfidf Vectorizer\n",
    "TFvect.fit(corpus)\n",
    "#using  Count Vectoriser\n",
    "COvect.fit(corpus)"
   ]
  },
  {
   "cell_type": "code",
   "execution_count": 22,
   "metadata": {},
   "outputs": [
    {
     "name": "stdout",
     "output_type": "stream",
     "text": [
      "Similarity using Tfidf Vectorizer: \n",
      " [[1.         0.32641855 0.28422445]\n",
      " [0.32641855 1.         0.09326147]\n",
      " [0.28422445 0.09326147 1.        ]]\n",
      "\n",
      "Similarity using Count Vectorizer: \n",
      " [[1.         0.39502913 0.34045227]\n",
      " [0.39502913 1.         0.16848018]\n",
      " [0.34045227 0.16848018 1.        ]]\n"
     ]
    }
   ],
   "source": [
    "from sklearn.metrics.pairwise import cosine_similarity\n",
    "\n",
    "#Using  Tfidf Vectorizer\n",
    "similarity1 = cosine_similarity(TFvect.transform([example1,example2,example3]))\n",
    "print(\"Similarity using Tfidf Vectorizer: \\n\",similarity1)\n",
    "\n",
    "#using  Count Vectoriser\n",
    "similarity2 = cosine_similarity(COvect.transform([example1,example2,example3]))\n",
    "print(\"\\nSimilarity using Count Vectorizer: \\n\",similarity2)"
   ]
  },
  {
   "cell_type": "code",
   "execution_count": null,
   "metadata": {},
   "outputs": [],
   "source": []
  }
 ],
 "metadata": {
  "kernelspec": {
   "display_name": "Python 3",
   "language": "python",
   "name": "python3"
  },
  "language_info": {
   "codemirror_mode": {
    "name": "ipython",
    "version": 3
   },
   "file_extension": ".py",
   "mimetype": "text/x-python",
   "name": "python",
   "nbconvert_exporter": "python",
   "pygments_lexer": "ipython3",
   "version": "3.6.5"
  }
 },
 "nbformat": 4,
 "nbformat_minor": 2
}
